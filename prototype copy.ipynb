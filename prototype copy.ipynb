{
 "cells": [
  {
   "cell_type": "code",
   "execution_count": 2,
   "metadata": {},
   "outputs": [],
   "source": [
    "from ray import serve\n",
    "import ray"
   ]
  },
  {
   "cell_type": "code",
   "execution_count": 3,
   "metadata": {},
   "outputs": [
    {
     "data": {
      "text/plain": [
       "RayContext(dashboard_url='127.0.0.1:8265', python_version='3.8.10', ray_version='1.12.1', ray_commit='4863e33856b54ccf8add5cbe75e41558850a1b75', address_info={'node_ip_address': '172.20.88.167', 'raylet_ip_address': '172.20.88.167', 'redis_address': None, 'object_store_address': '/tmp/ray/session_2022-06-08_11-27-14_972101_29053/sockets/plasma_store', 'raylet_socket_name': '/tmp/ray/session_2022-06-08_11-27-14_972101_29053/sockets/raylet', 'webui_url': '127.0.0.1:8265', 'session_dir': '/tmp/ray/session_2022-06-08_11-27-14_972101_29053', 'metrics_export_port': 64881, 'gcs_address': '172.20.88.167:6379', 'address': '172.20.88.167:6379', 'node_id': '5784640e877371da3a7459b4558b94d9560ed6acf6c4b9af4a8270ba'})"
      ]
     },
     "execution_count": 3,
     "metadata": {},
     "output_type": "execute_result"
    },
    {
     "ename": "",
     "evalue": "",
     "output_type": "error",
     "traceback": [
      "\u001b[1;31mThe Kernel crashed while executing code in the the current cell or a previous cell. Please review the code in the cell(s) to identify a possible cause of the failure. Click <a href='https://aka.ms/vscodeJupyterKernelCrash'>here</a> for more info. View Jupyter <a href='command:jupyter.viewOutput'>log</a> for further details."
     ]
    }
   ],
   "source": [
    "ray.init(address=\"auto\", namespace=\"serve\")"
   ]
  },
  {
   "cell_type": "code",
   "execution_count": 2,
   "metadata": {},
   "outputs": [
    {
     "name": "stderr",
     "output_type": "stream",
     "text": [
      "2022-06-07 14:22:20,918\tINFO services.py:1456 -- View the Ray dashboard at \u001b[1m\u001b[32mhttp://127.0.0.1:8266\u001b[39m\u001b[22m\n",
      "\u001b[2m\u001b[36m(ServeController pid=24354)\u001b[0m 2022-06-07 14:22:22,614\tINFO checkpoint_path.py:15 -- Using RayInternalKVStore for controller checkpoint and recovery.\n",
      "\u001b[2m\u001b[36m(ServeController pid=24354)\u001b[0m 2022-06-07 14:22:22,717\tINFO http_state.py:106 -- Starting HTTP proxy with name 'SERVE_CONTROLLER_ACTOR:SERVE_PROXY_ACTOR-node:172.20.83.169-0' on node 'node:172.20.83.169-0' listening on '127.0.0.1:8000'\n",
      "2022-06-07 14:22:23,195\tINFO api.py:794 -- Started detached Serve instance in namespace 'serve'.\n"
     ]
    }
   ],
   "source": [
    "#\n",
    "client = serve.start(detached=True)"
   ]
  },
  {
   "cell_type": "code",
   "execution_count": 3,
   "metadata": {},
   "outputs": [
    {
     "data": {
      "text/plain": [
       "{}"
      ]
     },
     "execution_count": 3,
     "metadata": {},
     "output_type": "execute_result"
    }
   ],
   "source": [
    "serve.list_deployments()"
   ]
  },
  {
   "cell_type": "code",
   "execution_count": 2,
   "metadata": {},
   "outputs": [
    {
     "ename": "RaySystemError",
     "evalue": "System error: Ray has not been started yet. You can start Ray with 'ray.init()'.",
     "output_type": "error",
     "traceback": [
      "\u001b[0;31m---------------------------------------------------------------------------\u001b[0m",
      "\u001b[0;31mRaySystemError\u001b[0m                            Traceback (most recent call last)",
      "\u001b[1;32m/home/lorenz/is3-broker-rl/prototype.ipynb Cell 3'\u001b[0m in \u001b[0;36m<cell line: 1>\u001b[0;34m()\u001b[0m\n\u001b[0;32m----> <a href='vscode-notebook-cell://wsl%2Bubuntu/home/lorenz/is3-broker-rl/prototype.ipynb#ch0000004vscode-remote?line=0'>1</a>\u001b[0m ray\u001b[39m.\u001b[39;49mcluster_resources()\n",
      "File \u001b[0;32m~/is3-broker-rl/venv/lib/python3.8/site-packages/ray/_private/client_mode_hook.py:105\u001b[0m, in \u001b[0;36mclient_mode_hook.<locals>.wrapper\u001b[0;34m(*args, **kwargs)\u001b[0m\n\u001b[1;32m    103\u001b[0m     \u001b[39mif\u001b[39;00m func\u001b[39m.\u001b[39m\u001b[39m__name__\u001b[39m \u001b[39m!=\u001b[39m \u001b[39m\"\u001b[39m\u001b[39minit\u001b[39m\u001b[39m\"\u001b[39m \u001b[39mor\u001b[39;00m is_client_mode_enabled_by_default:\n\u001b[1;32m    104\u001b[0m         \u001b[39mreturn\u001b[39;00m \u001b[39mgetattr\u001b[39m(ray, func\u001b[39m.\u001b[39m\u001b[39m__name__\u001b[39m)(\u001b[39m*\u001b[39margs, \u001b[39m*\u001b[39m\u001b[39m*\u001b[39mkwargs)\n\u001b[0;32m--> 105\u001b[0m \u001b[39mreturn\u001b[39;00m func(\u001b[39m*\u001b[39;49margs, \u001b[39m*\u001b[39;49m\u001b[39m*\u001b[39;49mkwargs)\n",
      "File \u001b[0;32m~/is3-broker-rl/venv/lib/python3.8/site-packages/ray/state.py:895\u001b[0m, in \u001b[0;36mcluster_resources\u001b[0;34m()\u001b[0m\n\u001b[1;32m    883\u001b[0m \u001b[39m@DeveloperAPI\u001b[39m\n\u001b[1;32m    884\u001b[0m \u001b[39m@client_mode_hook\u001b[39m(auto_init\u001b[39m=\u001b[39m\u001b[39mFalse\u001b[39;00m)\n\u001b[1;32m    885\u001b[0m \u001b[39mdef\u001b[39;00m \u001b[39mcluster_resources\u001b[39m():\n\u001b[1;32m    886\u001b[0m     \u001b[39m\"\"\"Get the current total cluster resources.\u001b[39;00m\n\u001b[1;32m    887\u001b[0m \n\u001b[1;32m    888\u001b[0m \u001b[39m    Note that this information can grow stale as nodes are added to or removed\u001b[39;00m\n\u001b[0;32m   (...)\u001b[0m\n\u001b[1;32m    893\u001b[0m \u001b[39m            resource in the cluster.\u001b[39;00m\n\u001b[1;32m    894\u001b[0m \u001b[39m    \"\"\"\u001b[39;00m\n\u001b[0;32m--> 895\u001b[0m     \u001b[39mreturn\u001b[39;00m state\u001b[39m.\u001b[39;49mcluster_resources()\n",
      "File \u001b[0;32m~/is3-broker-rl/venv/lib/python3.8/site-packages/ray/state.py:670\u001b[0m, in \u001b[0;36mGlobalState.cluster_resources\u001b[0;34m(self)\u001b[0m\n\u001b[1;32m    660\u001b[0m \u001b[39mdef\u001b[39;00m \u001b[39mcluster_resources\u001b[39m(\u001b[39mself\u001b[39m):\n\u001b[1;32m    661\u001b[0m     \u001b[39m\"\"\"Get the current total cluster resources.\u001b[39;00m\n\u001b[1;32m    662\u001b[0m \n\u001b[1;32m    663\u001b[0m \u001b[39m    Note that this information can grow stale as nodes are added to or\u001b[39;00m\n\u001b[0;32m   (...)\u001b[0m\n\u001b[1;32m    668\u001b[0m \u001b[39m            resource in the cluster.\u001b[39;00m\n\u001b[1;32m    669\u001b[0m \u001b[39m    \"\"\"\u001b[39;00m\n\u001b[0;32m--> 670\u001b[0m     \u001b[39mself\u001b[39;49m\u001b[39m.\u001b[39;49m_check_connected()\n\u001b[1;32m    672\u001b[0m     resources \u001b[39m=\u001b[39m defaultdict(\u001b[39mint\u001b[39m)\n\u001b[1;32m    673\u001b[0m     nodes \u001b[39m=\u001b[39m \u001b[39mself\u001b[39m\u001b[39m.\u001b[39mnode_table()\n",
      "File \u001b[0;32m~/is3-broker-rl/venv/lib/python3.8/site-packages/ray/state.py:48\u001b[0m, in \u001b[0;36mGlobalState._check_connected\u001b[0;34m(self)\u001b[0m\n\u001b[1;32m     46\u001b[0m \u001b[39m# _really_init_global_state should have set self.global_state_accessor\u001b[39;00m\n\u001b[1;32m     47\u001b[0m \u001b[39mif\u001b[39;00m \u001b[39mself\u001b[39m\u001b[39m.\u001b[39mglobal_state_accessor \u001b[39mis\u001b[39;00m \u001b[39mNone\u001b[39;00m:\n\u001b[0;32m---> 48\u001b[0m     \u001b[39mraise\u001b[39;00m ray\u001b[39m.\u001b[39mexceptions\u001b[39m.\u001b[39mRaySystemError(\n\u001b[1;32m     49\u001b[0m         \u001b[39m\"\u001b[39m\u001b[39mRay has not been started yet. You can start Ray with \u001b[39m\u001b[39m'\u001b[39m\u001b[39mray.init()\u001b[39m\u001b[39m'\u001b[39m\u001b[39m.\u001b[39m\u001b[39m\"\u001b[39m\n\u001b[1;32m     50\u001b[0m     )\n",
      "\u001b[0;31mRaySystemError\u001b[0m: System error: Ray has not been started yet. You can start Ray with 'ray.init()'."
     ]
    }
   ],
   "source": [
    "ray.cluster_resources()"
   ]
  },
  {
   "cell_type": "code",
   "execution_count": 6,
   "metadata": {},
   "outputs": [
    {
     "name": "stderr",
     "output_type": "stream",
     "text": [
      "2022-06-07 13:57:57,094\tINFO worker.py:946 -- Connecting to existing Ray cluster at address: 172.20.83.169:55844\n"
     ]
    },
    {
     "ename": "RuntimeError",
     "evalue": "Maybe you called ray.init twice by accident? This error can be suppressed by passing in 'ignore_reinit_error=True' or by calling 'ray.shutdown()' prior to 'ray.init()'.",
     "output_type": "error",
     "traceback": [
      "\u001b[0;31m---------------------------------------------------------------------------\u001b[0m",
      "\u001b[0;31mRuntimeError\u001b[0m                              Traceback (most recent call last)",
      "\u001b[1;32m/home/lorenz/is3-broker-rl/prototype.ipynb Cell 5'\u001b[0m in \u001b[0;36m<cell line: 2>\u001b[0;34m()\u001b[0m\n\u001b[1;32m      <a href='vscode-notebook-cell://wsl%2Bubuntu/home/lorenz/is3-broker-rl/prototype.ipynb#ch0000009vscode-remote?line=0'>1</a>\u001b[0m \u001b[39mimport\u001b[39;00m \u001b[39mray\u001b[39;00m\n\u001b[0;32m----> <a href='vscode-notebook-cell://wsl%2Bubuntu/home/lorenz/is3-broker-rl/prototype.ipynb#ch0000009vscode-remote?line=1'>2</a>\u001b[0m ray\u001b[39m.\u001b[39;49minit(address\u001b[39m=\u001b[39;49m\u001b[39m\"\u001b[39;49m\u001b[39mauto\u001b[39;49m\u001b[39m\"\u001b[39;49m, namespace\u001b[39m=\u001b[39;49m\u001b[39m\"\u001b[39;49m\u001b[39mserve\u001b[39;49m\u001b[39m\"\u001b[39;49m)\n",
      "File \u001b[0;32m~/is3-broker-rl/venv/lib/python3.8/site-packages/ray/_private/client_mode_hook.py:105\u001b[0m, in \u001b[0;36mclient_mode_hook.<locals>.wrapper\u001b[0;34m(*args, **kwargs)\u001b[0m\n\u001b[1;32m    103\u001b[0m     \u001b[39mif\u001b[39;00m func\u001b[39m.\u001b[39m\u001b[39m__name__\u001b[39m \u001b[39m!=\u001b[39m \u001b[39m\"\u001b[39m\u001b[39minit\u001b[39m\u001b[39m\"\u001b[39m \u001b[39mor\u001b[39;00m is_client_mode_enabled_by_default:\n\u001b[1;32m    104\u001b[0m         \u001b[39mreturn\u001b[39;00m \u001b[39mgetattr\u001b[39m(ray, func\u001b[39m.\u001b[39m\u001b[39m__name__\u001b[39m)(\u001b[39m*\u001b[39margs, \u001b[39m*\u001b[39m\u001b[39m*\u001b[39mkwargs)\n\u001b[0;32m--> 105\u001b[0m \u001b[39mreturn\u001b[39;00m func(\u001b[39m*\u001b[39;49margs, \u001b[39m*\u001b[39;49m\u001b[39m*\u001b[39;49mkwargs)\n",
      "File \u001b[0;32m~/is3-broker-rl/venv/lib/python3.8/site-packages/ray/worker.py:967\u001b[0m, in \u001b[0;36minit\u001b[0;34m(address, num_cpus, num_gpus, resources, object_store_memory, local_mode, ignore_reinit_error, include_dashboard, dashboard_host, dashboard_port, job_config, configure_logging, logging_level, logging_format, log_to_driver, namespace, runtime_env, storage, _enable_object_reconstruction, _redis_max_memory, _plasma_directory, _node_ip_address, _driver_object_store_memory, _memory, _redis_password, _temp_dir, _metrics_export_port, _system_config, _tracing_startup_hook, **kwargs)\u001b[0m\n\u001b[1;32m    965\u001b[0m         \u001b[39mreturn\u001b[39;00m RayContext(\u001b[39mdict\u001b[39m(_global_node\u001b[39m.\u001b[39maddress_info, node_id\u001b[39m=\u001b[39mnode_id\u001b[39m.\u001b[39mhex()))\n\u001b[1;32m    966\u001b[0m     \u001b[39melse\u001b[39;00m:\n\u001b[0;32m--> 967\u001b[0m         \u001b[39mraise\u001b[39;00m \u001b[39mRuntimeError\u001b[39;00m(\n\u001b[1;32m    968\u001b[0m             \u001b[39m\"\u001b[39m\u001b[39mMaybe you called ray.init twice by accident? \u001b[39m\u001b[39m\"\u001b[39m\n\u001b[1;32m    969\u001b[0m             \u001b[39m\"\u001b[39m\u001b[39mThis error can be suppressed by passing in \u001b[39m\u001b[39m\"\u001b[39m\n\u001b[1;32m    970\u001b[0m             \u001b[39m\"\u001b[39m\u001b[39m'\u001b[39m\u001b[39mignore_reinit_error=True\u001b[39m\u001b[39m'\u001b[39m\u001b[39m or by calling \u001b[39m\u001b[39m\"\u001b[39m\n\u001b[1;32m    971\u001b[0m             \u001b[39m\"\u001b[39m\u001b[39m'\u001b[39m\u001b[39mray.shutdown()\u001b[39m\u001b[39m'\u001b[39m\u001b[39m prior to \u001b[39m\u001b[39m'\u001b[39m\u001b[39mray.init()\u001b[39m\u001b[39m'\u001b[39m\u001b[39m.\u001b[39m\u001b[39m\"\u001b[39m\n\u001b[1;32m    972\u001b[0m         )\n\u001b[1;32m    974\u001b[0m _system_config \u001b[39m=\u001b[39m _system_config \u001b[39mor\u001b[39;00m {}\n\u001b[1;32m    975\u001b[0m \u001b[39mif\u001b[39;00m \u001b[39mnot\u001b[39;00m \u001b[39misinstance\u001b[39m(_system_config, \u001b[39mdict\u001b[39m):\n",
      "\u001b[0;31mRuntimeError\u001b[0m: Maybe you called ray.init twice by accident? This error can be suppressed by passing in 'ignore_reinit_error=True' or by calling 'ray.shutdown()' prior to 'ray.init()'."
     ]
    }
   ],
   "source": [
    "\n"
   ]
  },
  {
   "cell_type": "code",
   "execution_count": 26,
   "metadata": {},
   "outputs": [
    {
     "name": "stderr",
     "output_type": "stream",
     "text": [
      "2022-06-07 14:49:39,273\tINFO api.py:615 -- Updating deployment 'ObservationController'. component=serve deployment=ObservationController\n",
      "\u001b[2m\u001b[36m(ServeController pid=24354)\u001b[0m 2022-06-07 14:49:39,299\tINFO deployment_state.py:1173 -- Stopping 1 replicas of deployment 'ObservationController' with outdated versions. component=serve deployment=ObservationController\n",
      "\u001b[2m\u001b[36m(ServeController pid=24354)\u001b[0m 2022-06-07 14:49:41,474\tINFO deployment_state.py:1216 -- Adding 1 replicas to deployment 'ObservationController'. component=serve deployment=ObservationController\n",
      "2022-06-07 14:49:42,283\tINFO api.py:630 -- Deployment 'ObservationController' is ready at `http://127.0.0.1:8000/observe`. component=serve deployment=ObservationController\n"
     ]
    },
    {
     "name": "stdout",
     "output_type": "stream",
     "text": [
      "\u001b[2m\u001b[36m(ObservationController pid=4604)\u001b[0m test2\n",
      "\u001b[2m\u001b[36m(ObservationController pid=4604)\u001b[0m test2\n"
     ]
    }
   ],
   "source": [
    "import logging\n",
    "\n",
    "from ray import serve\n",
    "import ray\n",
    "from starlette.requests import Request\n",
    "\n",
    "\n",
    "@serve.deployment(route_prefix=\"/observe\")\n",
    "class ObservationController:\n",
    "    def __init__(self):\n",
    "        self._log = logging.getLogger(__name__)\n",
    "        #ray.init(address=\"auto\", namespace=\"serve\")\n",
    "    \n",
    "   \n",
    "\n",
    "    def __call__(self, request: Request):\n",
    "        \n",
    "        self._log.debug(request)\n",
    "        return self.test(request)\n",
    "\n",
    "    def test(self, request):\n",
    "        #self._log.debug(request)\n",
    "        print(request.query_params[\"test\"])\n",
    "        return {\"test3\": \"test4\"}\n",
    "\n",
    "    \n",
    "\n",
    "\n",
    "# Uncomment to disable API endpoint\n",
    "ObservationController.deploy()\n"
   ]
  },
  {
   "cell_type": "code",
   "execution_count": 6,
   "metadata": {},
   "outputs": [
    {
     "ename": "RuntimeError",
     "evalue": "Deployments cannot be constructed directly. Use `deployment.deploy() instead.`",
     "output_type": "error",
     "traceback": [
      "\u001b[0;31m---------------------------------------------------------------------------\u001b[0m",
      "\u001b[0;31mRuntimeError\u001b[0m                              Traceback (most recent call last)",
      "\u001b[1;32m/home/lorenz/is3-broker-rl/prototype copy.ipynb Cell 6'\u001b[0m in \u001b[0;36m<cell line: 1>\u001b[0;34m()\u001b[0m\n\u001b[0;32m----> <a href='vscode-notebook-cell://wsl%2Bubuntu/home/lorenz/is3-broker-rl/prototype%20copy.ipynb#ch0000005vscode-remote?line=0'>1</a>\u001b[0m ObservationController\u001b[39m.\u001b[39;49m\u001b[39m__call__\u001b[39;49m()\n",
      "File \u001b[0;32m~/is3-broker-rl/venv/lib/python3.8/site-packages/ray/serve/api.py:1211\u001b[0m, in \u001b[0;36mDeployment.__call__\u001b[0;34m(self)\u001b[0m\n\u001b[1;32m   1210\u001b[0m \u001b[39mdef\u001b[39;00m \u001b[39m__call__\u001b[39m(\u001b[39mself\u001b[39m):\n\u001b[0;32m-> 1211\u001b[0m     \u001b[39mraise\u001b[39;00m \u001b[39mRuntimeError\u001b[39;00m(\n\u001b[1;32m   1212\u001b[0m         \u001b[39m\"\u001b[39m\u001b[39mDeployments cannot be constructed directly. \u001b[39m\u001b[39m\"\u001b[39m\n\u001b[1;32m   1213\u001b[0m         \u001b[39m\"\u001b[39m\u001b[39mUse `deployment.deploy() instead.`\u001b[39m\u001b[39m\"\u001b[39m\n\u001b[1;32m   1214\u001b[0m     )\n",
      "\u001b[0;31mRuntimeError\u001b[0m: Deployments cannot be constructed directly. Use `deployment.deploy() instead.`"
     ]
    }
   ],
   "source": []
  },
  {
   "cell_type": "code",
   "execution_count": 5,
   "metadata": {},
   "outputs": [
    {
     "name": "stderr",
     "output_type": "stream",
     "text": [
      "2022-06-07 14:23:03,947\tWARNING api.py:485 -- You are retrieving a sync handle inside an asyncio loop. Try getting client.get_handle(.., sync=False) to get better performance. Learn more at https://docs.ray.io/en/master/serve/http-servehandle.html#sync-and-async-handles\n"
     ]
    },
    {
     "data": {
      "text/plain": [
       "RayServeSyncHandle(deployment='ObservationController')"
      ]
     },
     "execution_count": 5,
     "metadata": {},
     "output_type": "execute_result"
    }
   ],
   "source": [
    "client.get_handle(deployment_name=\"ObservationController\")"
   ]
  },
  {
   "cell_type": "code",
   "execution_count": null,
   "metadata": {},
   "outputs": [],
   "source": []
  }
 ],
 "metadata": {
  "kernelspec": {
   "display_name": "Python 3.8.10 ('venv': venv)",
   "language": "python",
   "name": "python3"
  },
  "language_info": {
   "name": "python",
   "version": "3.8.10"
  },
  "orig_nbformat": 4,
  "vscode": {
   "interpreter": {
    "hash": "3fdbdea0314b565a8e0f25225a3d0a0d8167176014aff623c8849b19965ecdc8"
   }
  }
 },
 "nbformat": 4,
 "nbformat_minor": 2
}
